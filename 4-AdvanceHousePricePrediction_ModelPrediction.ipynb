{
 "cells": [
  {
   "cell_type": "markdown",
   "metadata": {},
   "source": [
    "# Advance House Price Prediction Model Prediction"
   ]
  },
  {
   "cell_type": "code",
   "execution_count": 1,
   "metadata": {},
   "outputs": [],
   "source": [
    "import pandas as pd\n",
    "import numpy as np\n",
    "import matplotlib.pyplot as plt\n",
    "import seaborn as sns\n",
    "from sklearn.linear_model import Lasso\n",
    "from sklearn.model_selection import GridSearchCV\n",
    "import warnings\n",
    "warnings.filterwarnings('ignore')"
   ]
  },
  {
   "cell_type": "code",
   "execution_count": 2,
   "metadata": {},
   "outputs": [],
   "source": [
    "train_data = pd.read_csv('train.csv')\n",
    "test_data = pd.read_csv('test.csv')"
   ]
  },
  {
   "cell_type": "code",
   "execution_count": 3,
   "metadata": {},
   "outputs": [],
   "source": [
    "#from feature selection\n",
    "important_features = ['MSSubClass', 'MSZoning', 'Neighborhood', 'OverallQual', 'OverallCond',\n",
    "       'YearRemodAdd', 'RoofStyle', 'MasVnrType', 'BsmtQual', 'BsmtExposure',\n",
    "       'HeatingQC', 'CentralAir', '1stFlrSF', 'GrLivArea', 'BsmtFullBath',\n",
    "       'KitchenQual', 'Fireplaces', 'FireplaceQu', 'GarageType',\n",
    "       'GarageFinish', 'GarageCars', 'PavedDrive']"
   ]
  },
  {
   "cell_type": "code",
   "execution_count": 4,
   "metadata": {},
   "outputs": [],
   "source": [
    "#creating x_train, x_test, y_train and y_test\n",
    "x_train = train_data[important_features]\n",
    "x_test = test_data[important_features]\n",
    "y_train = train_data[['SalePrice']]\n",
    "y_test = test_data[['SalePrice']]"
   ]
  },
  {
   "cell_type": "code",
   "execution_count": 14,
   "metadata": {},
   "outputs": [
    {
     "data": {
      "text/plain": [
       "GridSearchCV(cv=10, estimator=Lasso(),\n",
       "             param_grid={'alpha': [1e-20, 1e-15, 1e-10, 1e-09, 1e-08, 1e-07,\n",
       "                                   0.0001, 0.001, 0.01, 0.1]},\n",
       "             scoring='neg_mean_squared_error')"
      ]
     },
     "execution_count": 14,
     "metadata": {},
     "output_type": "execute_result"
    }
   ],
   "source": [
    "#training the model\n",
    "lasso_regression = Lasso()\n",
    "parameters = {'alpha' : [1e-20, 1e-15, 1e-10, 1e-9, 1e-8, 1e-7, 1e-4, 1e-3, 1e-2, 1e-1]}\n",
    "\n",
    "model = GridSearchCV(lasso_regression, parameters, scoring='neg_mean_squared_error', cv=10)\n",
    "model.fit(x_train, y_train)"
   ]
  },
  {
   "cell_type": "code",
   "execution_count": 15,
   "metadata": {},
   "outputs": [
    {
     "data": {
      "text/plain": [
       "{'alpha': 0.0001}"
      ]
     },
     "execution_count": 15,
     "metadata": {},
     "output_type": "execute_result"
    }
   ],
   "source": [
    "#best parameter\n",
    "model.best_params_"
   ]
  },
  {
   "cell_type": "code",
   "execution_count": 16,
   "metadata": {},
   "outputs": [
    {
     "data": {
      "text/plain": [
       "-0.01792536932168419"
      ]
     },
     "execution_count": 16,
     "metadata": {},
     "output_type": "execute_result"
    }
   ],
   "source": [
    "model.best_score_"
   ]
  },
  {
   "cell_type": "code",
   "execution_count": 17,
   "metadata": {},
   "outputs": [],
   "source": [
    "#predicting the model\n",
    "y_pred = model.predict(x_test)"
   ]
  },
  {
   "cell_type": "code",
   "execution_count": 24,
   "metadata": {},
   "outputs": [
    {
     "data": {
      "image/png": "[encoded data removed]",
      "text/plain": [
       "<Figure size 432x288 with 1 Axes>"
      ]
     },
     "metadata": {
      "needs_background": "light"
     },
     "output_type": "display_data"
    }
   ],
   "source": [
    "#ploting the prediction\n",
    "y_pred = y_pred.reshape(146, 1)\n",
    "sns.distplot(y_test - y_pred)\n",
    "plt.title('prediction')\n",
    "plt.show()"
   ]
  },
  {
   "cell_type": "code",
   "execution_count": 26,
   "metadata": {},
   "outputs": [
    {
     "name": "stdout",
     "output_type": "stream",
     "text": [
      "     SalePrice\n",
      "0    12.209188\n",
      "1    11.798104\n",
      "2    11.608236\n",
      "3    12.165251\n",
      "4    11.385092\n",
      "..         ...\n",
      "141  11.884489\n",
      "142  12.287653\n",
      "143  11.921718\n",
      "144  11.598727\n",
      "145  12.017331\n",
      "\n",
      "[146 rows x 1 columns]\n"
     ]
    }
   ],
   "source": [
    "print(y_test)"
   ]
  },
  {
   "cell_type": "code",
   "execution_count": 28,
   "metadata": {
    "scrolled": true
   },
   "outputs": [
    {
     "name": "stdout",
     "output_type": "stream",
     "text": [
      "[[12.1262638 ]\n",
      " [11.88124259]\n",
      " [11.56237225]\n",
      " [12.15561306]\n",
      " [11.4094223 ]\n",
      " [11.41993967]\n",
      " [12.26287704]\n",
      " [11.62112978]\n",
      " [13.05581989]\n",
      " [11.83666823]\n",
      " [12.1200287 ]\n",
      " [11.85807072]\n",
      " [12.19088046]\n",
      " [11.57973367]\n",
      " [11.62198446]\n",
      " [11.74197111]\n",
      " [12.26908561]\n",
      " [11.56437451]\n",
      " [11.69634502]\n",
      " [12.08110674]\n",
      " [11.58367941]\n",
      " [11.77864434]\n",
      " [11.39602499]\n",
      " [11.94955463]\n",
      " [12.02065482]\n",
      " [12.06279998]\n",
      " [11.9433798 ]\n",
      " [11.25898165]\n",
      " [12.42512377]\n",
      " [11.52960652]\n",
      " [11.8992483 ]\n",
      " [12.15429607]\n",
      " [11.87269894]\n",
      " [12.50501919]\n",
      " [12.55230257]\n",
      " [12.0143235 ]\n",
      " [12.4083799 ]\n",
      " [11.60479676]\n",
      " [12.24248985]\n",
      " [12.60142716]\n",
      " [12.28792448]\n",
      " [11.69571266]\n",
      " [12.0914284 ]\n",
      " [12.53070989]\n",
      " [12.5920857 ]\n",
      " [11.67778206]\n",
      " [11.5612333 ]\n",
      " [11.67535708]\n",
      " [11.84736441]\n",
      " [11.47273759]\n",
      " [12.76724395]\n",
      " [11.76077121]\n",
      " [11.90424854]\n",
      " [11.24236735]\n",
      " [12.18744055]\n",
      " [11.53985272]\n",
      " [11.6551202 ]\n",
      " [12.26591643]\n",
      " [11.69243251]\n",
      " [11.32936641]\n",
      " [11.84643878]\n",
      " [11.59515643]\n",
      " [11.72313316]\n",
      " [11.87363356]\n",
      " [12.14708345]\n",
      " [11.86137893]\n",
      " [11.62773422]\n",
      " [12.18174324]\n",
      " [11.74006517]\n",
      " [12.16274111]\n",
      " [12.11269337]\n",
      " [11.59826111]\n",
      " [11.11156754]\n",
      " [12.39049818]\n",
      " [11.37277785]\n",
      " [12.37420985]\n",
      " [11.60323827]\n",
      " [11.34610151]\n",
      " [12.41172147]\n",
      " [11.89941315]\n",
      " [11.55387338]\n",
      " [11.72716796]\n",
      " [11.67119802]\n",
      " [11.67795845]\n",
      " [12.12545766]\n",
      " [12.08775698]\n",
      " [11.43247883]\n",
      " [12.08767716]\n",
      " [11.88975041]\n",
      " [11.70036025]\n",
      " [11.94902565]\n",
      " [12.01952994]\n",
      " [11.95464151]\n",
      " [12.12478993]\n",
      " [12.05837044]\n",
      " [11.77223765]\n",
      " [12.15866238]\n",
      " [12.04445203]\n",
      " [11.53941271]\n",
      " [11.72781718]\n",
      " [12.24160694]\n",
      " [11.87106737]\n",
      " [11.70084269]\n",
      " [11.78866969]\n",
      " [11.5347273 ]\n",
      " [12.36687887]\n",
      " [11.826918  ]\n",
      " [11.33125826]\n",
      " [12.01862662]\n",
      " [11.60340092]\n",
      " [11.38755577]\n",
      " [11.56627765]\n",
      " [11.99655961]\n",
      " [11.69681347]\n",
      " [12.03445313]\n",
      " [11.88543325]\n",
      " [12.71952098]\n",
      " [11.57841921]\n",
      " [12.02577387]\n",
      " [12.39155239]\n",
      " [11.82910196]\n",
      " [11.94723672]\n",
      " [11.60112681]\n",
      " [12.04558364]\n",
      " [12.12588075]\n",
      " [12.34429531]\n",
      " [12.60393256]\n",
      " [12.16274689]\n",
      " [12.07030666]\n",
      " [11.97602055]\n",
      " [12.14151342]\n",
      " [12.06599657]\n",
      " [11.80225794]\n",
      " [12.09546798]\n",
      " [11.39912574]\n",
      " [12.25813954]\n",
      " [11.77578701]\n",
      " [11.97167233]\n",
      " [11.45023013]\n",
      " [11.95296037]\n",
      " [11.8984268 ]\n",
      " [11.68207446]\n",
      " [12.25589476]\n",
      " [11.83856839]\n",
      " [11.74011686]\n",
      " [11.9864183 ]]\n"
     ]
    }
   ],
   "source": [
    "print(y_pred)"
   ]
  },
  {
   "cell_type": "code",
   "execution_count": null,
   "metadata": {},
   "outputs": [],
   "source": []
  }
 ],
 "metadata": {
  "kernelspec": {
   "display_name": "Python 3",
   "language": "python",
   "name": "python3"
  },
  "language_info": {
   "codemirror_mode": {
    "name": "ipython",
    "version": 3
   },
   "file_extension": ".py",
   "mimetype": "text/x-python",
   "name": "python",
   "nbconvert_exporter": "python",
   "pygments_lexer": "ipython3",
   "version": "3.8.3"
  }
 },
 "nbformat": 4,
 "nbformat_minor": 4
}
